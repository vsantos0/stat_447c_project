{
 "cells": [
  {
   "cell_type": "markdown",
   "id": "0996f7ae-2d1b-4336-b8ea-47c64df31784",
   "metadata": {},
   "source": [
    "# Project Proposal"
   ]
  },
  {
   "cell_type": "markdown",
   "id": "d79a038f-f835-4416-b02f-af00dea45f1f",
   "metadata": {},
   "source": [
    "Name: Vinicius Santos <br>\n",
    "Student ID: 65666018"
   ]
  },
  {
   "cell_type": "markdown",
   "id": "0c05e9a3-4721-433b-91bd-ab5aca7eae10",
   "metadata": {},
   "source": [
    "## Team"
   ]
  },
  {
   "cell_type": "markdown",
   "id": "dd285d31-2443-4ba5-a6c3-db9235fb8f20",
   "metadata": {},
   "source": [
    "This will be an individual project."
   ]
  },
  {
   "cell_type": "markdown",
   "id": "0b28d345-0c30-48e3-a022-dff9730752ef",
   "metadata": {},
   "source": [
    "## GitHub Repo"
   ]
  },
  {
   "cell_type": "markdown",
   "id": "159a795c-6845-4f8a-a78a-892ad7360209",
   "metadata": {},
   "source": [
    "The GitHub repo for this project can be found [here](https://github.com/vsantos0/stat_447c_project)."
   ]
  },
  {
   "cell_type": "markdown",
   "id": "987d578a-cb61-4c36-accc-ce85efce0988",
   "metadata": {},
   "source": [
    "## Theme"
   ]
  },
  {
   "cell_type": "markdown",
   "id": "348734df-415f-4e14-a174-9df2d82789c3",
   "metadata": {},
   "source": [
    "In this project, we are interested in applying Bayesian classification to a real-world problem and a real dataset. More specifically, we will use Bayesian classification or regression to develop a probability model for the performance of participants of the International Mathematical Olympiad (IMO).\n",
    "\n",
    "The IMO started in 1959 with the first edition being hosted in Romania. Hosted every year in a different country, it is the most important mathematical competition in the world and the participants are high school students. The competition consists of six problems given in two consecutive days (i.e., three problems in the first day and the other three in the next day) with the problems having increasing difficulty. Each problem is worth seven points, and the medals are given to roughly to the top half performers with the proportion of gold, silver, and bronze medals roughly 1:2:3. Thus, there is no fixed score criteria and the scores necessary to receive a certain medal and the number of these medals vary each year. Also, note that each country may send a team of at most six students to the competition."
   ]
  },
  {
   "cell_type": "markdown",
   "id": "295b744d-180a-4636-af4b-fa56d3cb9237",
   "metadata": {},
   "source": [
    "## Candidate Datasets"
   ]
  },
  {
   "cell_type": "code",
   "execution_count": 1,
   "id": "e90783d6-cc23-4701-8dca-8e036bfec2e9",
   "metadata": {},
   "outputs": [],
   "source": [
    "suppressPackageStartupMessages(suppressWarnings(library(repr)))\n",
    "suppressPackageStartupMessages(suppressWarnings(library(tidyverse)))"
   ]
  },
  {
   "cell_type": "markdown",
   "id": "5252df60-85c0-42d9-ad91-390b43c0c19e",
   "metadata": {},
   "source": [
    "### Country Performance Dataset"
   ]
  },
  {
   "cell_type": "markdown",
   "id": "6dedbd93-b705-4f2e-9de3-5adac9c58d09",
   "metadata": {},
   "source": [
    "The first candidate dataset contains results of each country's team, including number of gold, silver, and bronze medals, score in each of the six problems, and the year of participation. Below, we read and show the first six rows of the dataset with the columns of interest to this analysis."
   ]
  },
  {
   "cell_type": "code",
   "execution_count": 2,
   "id": "5c04d4bd-a656-4eb1-8b17-df4d2ce68089",
   "metadata": {},
   "outputs": [
    {
     "data": {
      "text/html": [
       "<table class=\"dataframe\">\n",
       "<caption>A tibble: 6 × 11</caption>\n",
       "<thead>\n",
       "\t<tr><th scope=col>year</th><th scope=col>country</th><th scope=col>p1</th><th scope=col>p2</th><th scope=col>p3</th><th scope=col>p4</th><th scope=col>p5</th><th scope=col>p6</th><th scope=col>awards_gold</th><th scope=col>awards_silver</th><th scope=col>awards_bronze</th></tr>\n",
       "\t<tr><th scope=col>&lt;dbl&gt;</th><th scope=col>&lt;chr&gt;</th><th scope=col>&lt;dbl&gt;</th><th scope=col>&lt;dbl&gt;</th><th scope=col>&lt;dbl&gt;</th><th scope=col>&lt;dbl&gt;</th><th scope=col>&lt;dbl&gt;</th><th scope=col>&lt;dbl&gt;</th><th scope=col>&lt;dbl&gt;</th><th scope=col>&lt;dbl&gt;</th><th scope=col>&lt;dbl&gt;</th></tr>\n",
       "</thead>\n",
       "<tbody>\n",
       "\t<tr><td>2024</td><td>United States of America  </td><td>42</td><td>41</td><td>19</td><td>40</td><td>35</td><td>15</td><td>5</td><td>1</td><td>0</td></tr>\n",
       "\t<tr><td>2024</td><td>People's Republic of China</td><td>42</td><td>42</td><td>31</td><td>40</td><td>22</td><td>13</td><td>5</td><td>1</td><td>0</td></tr>\n",
       "\t<tr><td>2024</td><td>Republic of Korea         </td><td>42</td><td>37</td><td>18</td><td>42</td><td> 7</td><td>22</td><td>2</td><td>4</td><td>0</td></tr>\n",
       "\t<tr><td>2024</td><td>India                     </td><td>42</td><td>34</td><td>11</td><td>42</td><td>28</td><td>10</td><td>4</td><td>1</td><td>0</td></tr>\n",
       "\t<tr><td>2024</td><td>Belarus                   </td><td>42</td><td>30</td><td>10</td><td>42</td><td>36</td><td> 5</td><td>4</td><td>0</td><td>2</td></tr>\n",
       "\t<tr><td>2024</td><td>Singapore                 </td><td>42</td><td>37</td><td> 7</td><td>42</td><td>29</td><td> 5</td><td>1</td><td>5</td><td>0</td></tr>\n",
       "</tbody>\n",
       "</table>\n"
      ],
      "text/latex": [
       "A tibble: 6 × 11\n",
       "\\begin{tabular}{lllllllllll}\n",
       " year & country & p1 & p2 & p3 & p4 & p5 & p6 & awards\\_gold & awards\\_silver & awards\\_bronze\\\\\n",
       " <dbl> & <chr> & <dbl> & <dbl> & <dbl> & <dbl> & <dbl> & <dbl> & <dbl> & <dbl> & <dbl>\\\\\n",
       "\\hline\n",
       "\t 2024 & United States of America   & 42 & 41 & 19 & 40 & 35 & 15 & 5 & 1 & 0\\\\\n",
       "\t 2024 & People's Republic of China & 42 & 42 & 31 & 40 & 22 & 13 & 5 & 1 & 0\\\\\n",
       "\t 2024 & Republic of Korea          & 42 & 37 & 18 & 42 &  7 & 22 & 2 & 4 & 0\\\\\n",
       "\t 2024 & India                      & 42 & 34 & 11 & 42 & 28 & 10 & 4 & 1 & 0\\\\\n",
       "\t 2024 & Belarus                    & 42 & 30 & 10 & 42 & 36 &  5 & 4 & 0 & 2\\\\\n",
       "\t 2024 & Singapore                  & 42 & 37 &  7 & 42 & 29 &  5 & 1 & 5 & 0\\\\\n",
       "\\end{tabular}\n"
      ],
      "text/markdown": [
       "\n",
       "A tibble: 6 × 11\n",
       "\n",
       "| year &lt;dbl&gt; | country &lt;chr&gt; | p1 &lt;dbl&gt; | p2 &lt;dbl&gt; | p3 &lt;dbl&gt; | p4 &lt;dbl&gt; | p5 &lt;dbl&gt; | p6 &lt;dbl&gt; | awards_gold &lt;dbl&gt; | awards_silver &lt;dbl&gt; | awards_bronze &lt;dbl&gt; |\n",
       "|---|---|---|---|---|---|---|---|---|---|---|\n",
       "| 2024 | United States of America   | 42 | 41 | 19 | 40 | 35 | 15 | 5 | 1 | 0 |\n",
       "| 2024 | People's Republic of China | 42 | 42 | 31 | 40 | 22 | 13 | 5 | 1 | 0 |\n",
       "| 2024 | Republic of Korea          | 42 | 37 | 18 | 42 |  7 | 22 | 2 | 4 | 0 |\n",
       "| 2024 | India                      | 42 | 34 | 11 | 42 | 28 | 10 | 4 | 1 | 0 |\n",
       "| 2024 | Belarus                    | 42 | 30 | 10 | 42 | 36 |  5 | 4 | 0 | 2 |\n",
       "| 2024 | Singapore                  | 42 | 37 |  7 | 42 | 29 |  5 | 1 | 5 | 0 |\n",
       "\n"
      ],
      "text/plain": [
       "  year country                    p1 p2 p3 p4 p5 p6 awards_gold awards_silver\n",
       "1 2024 United States of America   42 41 19 40 35 15 5           1            \n",
       "2 2024 People's Republic of China 42 42 31 40 22 13 5           1            \n",
       "3 2024 Republic of Korea          42 37 18 42  7 22 2           4            \n",
       "4 2024 India                      42 34 11 42 28 10 4           1            \n",
       "5 2024 Belarus                    42 30 10 42 36  5 4           0            \n",
       "6 2024 Singapore                  42 37  7 42 29  5 1           5            \n",
       "  awards_bronze\n",
       "1 0            \n",
       "2 0            \n",
       "3 0            \n",
       "4 0            \n",
       "5 2            \n",
       "6 0            "
      ]
     },
     "metadata": {},
     "output_type": "display_data"
    }
   ],
   "source": [
    "url <- 'https://raw.githubusercontent.com/rfordatascience/tidytuesday/main/data/2024/2024-09-24/country_results_df.csv'\n",
    "country_results_df <- read_csv(url, col_types=cols(p7=col_double())) |> \n",
    "    select(year, country, p1:p6, awards_gold, awards_silver, awards_bronze)\n",
    "\n",
    "head(country_results_df)"
   ]
  },
  {
   "cell_type": "markdown",
   "id": "e392a2e1-4d34-409d-8faa-8fdbff31ca0c",
   "metadata": {},
   "source": [
    "With this dataset, we may model probabilities related to the number of a certain medal given the score of the country's team on each of the six problems."
   ]
  },
  {
   "cell_type": "markdown",
   "id": "95975bce-599f-4d4b-9c7a-1526739eb901",
   "metadata": {},
   "source": [
    "### Individual Performance Dataset"
   ]
  },
  {
   "cell_type": "markdown",
   "id": "1ff52944-d22b-487a-bf94-c440c7fdb6dd",
   "metadata": {},
   "source": [
    "The second candidate dataset contains results of each contestant, including the year of participation, country, score in each of the six questions, and the award won. Note that each contestant may participate more than one time. Below, we read and show the first six rows of the dataset with the columns of interest to this analysis."
   ]
  },
  {
   "cell_type": "code",
   "execution_count": 3,
   "id": "fe6ec4e6-6fc7-4289-b720-82461cdbb1a4",
   "metadata": {},
   "outputs": [
    {
     "data": {
      "text/html": [
       "<table class=\"dataframe\">\n",
       "<caption>A tibble: 6 × 10</caption>\n",
       "<thead>\n",
       "\t<tr><th scope=col>year</th><th scope=col>contestant</th><th scope=col>country</th><th scope=col>p1</th><th scope=col>p2</th><th scope=col>p3</th><th scope=col>p4</th><th scope=col>p5</th><th scope=col>p6</th><th scope=col>award</th></tr>\n",
       "\t<tr><th scope=col>&lt;dbl&gt;</th><th scope=col>&lt;chr&gt;</th><th scope=col>&lt;chr&gt;</th><th scope=col>&lt;dbl&gt;</th><th scope=col>&lt;dbl&gt;</th><th scope=col>&lt;dbl&gt;</th><th scope=col>&lt;dbl&gt;</th><th scope=col>&lt;dbl&gt;</th><th scope=col>&lt;dbl&gt;</th><th scope=col>&lt;chr&gt;</th></tr>\n",
       "</thead>\n",
       "<tbody>\n",
       "\t<tr><td>2024</td><td>Haojia Shi                    </td><td>People's Republic of China</td><td>7</td><td>7</td><td>7</td><td>7</td><td>7</td><td>7</td><td>Gold medal</td></tr>\n",
       "\t<tr><td>2024</td><td>Ivan Chasovskikh              </td><td>C21                       </td><td>7</td><td>7</td><td>6</td><td>6</td><td>7</td><td>7</td><td>Gold medal</td></tr>\n",
       "\t<tr><td>2024</td><td>Alexander Wang                </td><td>United States of America  </td><td>7</td><td>7</td><td>3</td><td>7</td><td>7</td><td>7</td><td>Gold medal</td></tr>\n",
       "\t<tr><td>2024</td><td>Satoshi Kano                  </td><td>Japan                     </td><td>7</td><td>7</td><td>2</td><td>7</td><td>7</td><td>7</td><td>Gold medal</td></tr>\n",
       "\t<tr><td>2024</td><td>László Bence Simon            </td><td>Hungary                   </td><td>7</td><td>7</td><td>7</td><td>7</td><td>7</td><td>0</td><td>Gold medal</td></tr>\n",
       "\t<tr><td>2024</td><td>Adhitya Mangudy Venkata Ganesh</td><td>India                     </td><td>7</td><td>7</td><td>4</td><td>7</td><td>7</td><td>3</td><td>Gold medal</td></tr>\n",
       "</tbody>\n",
       "</table>\n"
      ],
      "text/latex": [
       "A tibble: 6 × 10\n",
       "\\begin{tabular}{llllllllll}\n",
       " year & contestant & country & p1 & p2 & p3 & p4 & p5 & p6 & award\\\\\n",
       " <dbl> & <chr> & <chr> & <dbl> & <dbl> & <dbl> & <dbl> & <dbl> & <dbl> & <chr>\\\\\n",
       "\\hline\n",
       "\t 2024 & Haojia Shi                     & People's Republic of China & 7 & 7 & 7 & 7 & 7 & 7 & Gold medal\\\\\n",
       "\t 2024 & Ivan Chasovskikh               & C21                        & 7 & 7 & 6 & 6 & 7 & 7 & Gold medal\\\\\n",
       "\t 2024 & Alexander Wang                 & United States of America   & 7 & 7 & 3 & 7 & 7 & 7 & Gold medal\\\\\n",
       "\t 2024 & Satoshi Kano                   & Japan                      & 7 & 7 & 2 & 7 & 7 & 7 & Gold medal\\\\\n",
       "\t 2024 & László Bence Simon             & Hungary                    & 7 & 7 & 7 & 7 & 7 & 0 & Gold medal\\\\\n",
       "\t 2024 & Adhitya Mangudy Venkata Ganesh & India                      & 7 & 7 & 4 & 7 & 7 & 3 & Gold medal\\\\\n",
       "\\end{tabular}\n"
      ],
      "text/markdown": [
       "\n",
       "A tibble: 6 × 10\n",
       "\n",
       "| year &lt;dbl&gt; | contestant &lt;chr&gt; | country &lt;chr&gt; | p1 &lt;dbl&gt; | p2 &lt;dbl&gt; | p3 &lt;dbl&gt; | p4 &lt;dbl&gt; | p5 &lt;dbl&gt; | p6 &lt;dbl&gt; | award &lt;chr&gt; |\n",
       "|---|---|---|---|---|---|---|---|---|---|\n",
       "| 2024 | Haojia Shi                     | People's Republic of China | 7 | 7 | 7 | 7 | 7 | 7 | Gold medal |\n",
       "| 2024 | Ivan Chasovskikh               | C21                        | 7 | 7 | 6 | 6 | 7 | 7 | Gold medal |\n",
       "| 2024 | Alexander Wang                 | United States of America   | 7 | 7 | 3 | 7 | 7 | 7 | Gold medal |\n",
       "| 2024 | Satoshi Kano                   | Japan                      | 7 | 7 | 2 | 7 | 7 | 7 | Gold medal |\n",
       "| 2024 | László Bence Simon             | Hungary                    | 7 | 7 | 7 | 7 | 7 | 0 | Gold medal |\n",
       "| 2024 | Adhitya Mangudy Venkata Ganesh | India                      | 7 | 7 | 4 | 7 | 7 | 3 | Gold medal |\n",
       "\n"
      ],
      "text/plain": [
       "  year contestant                     country                    p1 p2 p3 p4 p5\n",
       "1 2024 Haojia Shi                     People's Republic of China 7  7  7  7  7 \n",
       "2 2024 Ivan Chasovskikh               C21                        7  7  6  6  7 \n",
       "3 2024 Alexander Wang                 United States of America   7  7  3  7  7 \n",
       "4 2024 Satoshi Kano                   Japan                      7  7  2  7  7 \n",
       "5 2024 László Bence Simon             Hungary                    7  7  7  7  7 \n",
       "6 2024 Adhitya Mangudy Venkata Ganesh India                      7  7  4  7  7 \n",
       "  p6 award     \n",
       "1 7  Gold medal\n",
       "2 7  Gold medal\n",
       "3 7  Gold medal\n",
       "4 7  Gold medal\n",
       "5 0  Gold medal\n",
       "6 3  Gold medal"
      ]
     },
     "metadata": {},
     "output_type": "display_data"
    }
   ],
   "source": [
    "url <- 'https://raw.githubusercontent.com/rfordatascience/tidytuesday/main/data/2024/2024-09-24/individual_results_df.csv'\n",
    "individual_results_df <- read_csv(url, col_types=cols(p7=col_double())) |>\n",
    "    select(-p7, -total, -individual_rank)\n",
    "\n",
    "head(individual_results_df)"
   ]
  },
  {
   "cell_type": "markdown",
   "id": "cd4e544d-a80e-4719-b249-06cc48710785",
   "metadata": {},
   "source": [
    "With this dataset, we may model the probability of a contestant winning a certain medal given their score in each of the six problems."
   ]
  },
  {
   "cell_type": "markdown",
   "id": "fc0fd125-ade4-4871-8351-b32f57a30bce",
   "metadata": {},
   "source": [
    "## Potential Approaches Summary"
   ]
  },
  {
   "cell_type": "markdown",
   "id": "d4a91101-5a56-46ba-9a0b-90261bbcf9f5",
   "metadata": {},
   "source": [
    "Independent of the choice between the two datasets above, we plan to place priors on each of the six problems' score distribution to reflect the difficulty of the problem. Also, to reduce the prior sensitivity, we may consider adding a hierarchical structure by conditioning the parameters of these priors to fixed distributions.\n",
    "\n",
    "In the case of the first dataset, we are interested in a regression problem. Thus, we would apply the structure of a Bayesian GLM to this problem. For example, we might use a discrete uniform likelihood since the number of a certain medal a country receives is an integer between zero and six.\n",
    "\n",
    "In the case of the second dataset, since we would be dealing with a classification problem, we would consider Bayesian classifiers, such as Bayesian logistic regression."
   ]
  }
 ],
 "metadata": {
  "kernelspec": {
   "display_name": "R",
   "language": "R",
   "name": "ir"
  },
  "language_info": {
   "codemirror_mode": "r",
   "file_extension": ".r",
   "mimetype": "text/x-r-source",
   "name": "R",
   "pygments_lexer": "r",
   "version": "4.4.1"
  }
 },
 "nbformat": 4,
 "nbformat_minor": 5
}
